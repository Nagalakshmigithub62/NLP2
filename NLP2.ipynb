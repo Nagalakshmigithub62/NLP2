{
  "nbformat": 4,
  "nbformat_minor": 0,
  "metadata": {
    "colab": {
      "provenance": [],
      "include_colab_link": true
    },
    "kernelspec": {
      "name": "python3",
      "display_name": "Python 3"
    },
    "language_info": {
      "name": "python"
    }
  },
  "cells": [
    {
      "cell_type": "markdown",
      "metadata": {
        "id": "view-in-github",
        "colab_type": "text"
      },
      "source": [
        "<a href=\"https://colab.research.google.com/github/Nagalakshmigithub62/NLP2/blob/main/NLP2.ipynb\" target=\"_parent\"><img src=\"https://colab.research.google.com/assets/colab-badge.svg\" alt=\"Open In Colab\"/></a>"
      ]
    },
    {
      "cell_type": "code",
      "execution_count": null,
      "metadata": {
        "id": "l2dA1mjgcFGv"
      },
      "outputs": [],
      "source": [
        "import numpy as np\n",
        "import pandas as pd\n",
        "import matplotlib.pyplot as plt\n",
        "import seaborn as sns\n",
        "%matplotlib inline\n",
        "import re\n",
        "from nltk.corpus import stopwords\n",
        "from nltk.tokenize import word_tokenize\n",
        "from nltk.stem import WordNetLemmatizer\n",
        "from nltk import pos_tag\n",
        "from wordcloud import WordCloud\n",
        "import matplotlib.pyplot as plt\n",
        "import datetime as dt\n",
        "from sklearn.feature_extraction.text import TfidfVectorizer\n",
        "import seaborn as sns\n",
        "from sklearn.model_selection import train_test_split\n",
        "import string\n",
        "from sklearn.metrics import accuracy_score, classification_report, confusion_matrix , roc_curve, roc_auc_score\n",
        "from sklearn.metrics import precision_score, recall_score, f1_score"
      ]
    },
    {
      "cell_type": "code",
      "source": [
        "from tensorflow.keras.models import Sequential\n",
        "from tensorflow.keras.layers import LSTM, Dense, Embedding, SpatialDropout1D\n",
        "from tensorflow.keras.preprocessing.sequence import pad_sequences\n",
        "from tensorflow.keras.preprocessing.text import Tokenizer,one_hot\n",
        "import tensorflow as tf\n",
        "from tensorflow.keras import regularizers\n",
        "from tensorflow.keras import layers\n",
        "from tensorflow.keras import losses\n",
        "from collections import Counter\n",
        "import tensorflow as tf\n",
        "from sklearn.preprocessing import LabelEncoder\n"
      ],
      "metadata": {
        "id": "fWvBNCYVowgj"
      },
      "execution_count": null,
      "outputs": []
    },
    {
      "cell_type": "code",
      "source": [
        "import nltk\n",
        "nltk.download('punkt')\n",
        "nltk.download('averaged_perceptron_tagger')\n",
        "nltk.download('wordnet')\n",
        "nltk.download('stopwords')"
      ],
      "metadata": {
        "colab": {
          "base_uri": "https://localhost:8080/"
        },
        "id": "idIwRKe5cIwE",
        "outputId": "6361ebaf-5547-43be-e7dd-65b033d0291f"
      },
      "execution_count": null,
      "outputs": [
        {
          "output_type": "stream",
          "name": "stderr",
          "text": [
            "[nltk_data] Downloading package punkt to /root/nltk_data...\n",
            "[nltk_data]   Package punkt is already up-to-date!\n",
            "[nltk_data] Downloading package averaged_perceptron_tagger to\n",
            "[nltk_data]     /root/nltk_data...\n",
            "[nltk_data]   Package averaged_perceptron_tagger is already up-to-\n",
            "[nltk_data]       date!\n",
            "[nltk_data] Downloading package wordnet to /root/nltk_data...\n",
            "[nltk_data]   Package wordnet is already up-to-date!\n",
            "[nltk_data] Downloading package stopwords to /root/nltk_data...\n",
            "[nltk_data]   Package stopwords is already up-to-date!\n"
          ]
        },
        {
          "output_type": "execute_result",
          "data": {
            "text/plain": [
              "True"
            ]
          },
          "metadata": {},
          "execution_count": 2
        }
      ]
    },
    {
      "cell_type": "code",
      "source": [
        "from google.colab import drive\n",
        "drive.mount('/content/drive')"
      ],
      "metadata": {
        "colab": {
          "base_uri": "https://localhost:8080/"
        },
        "id": "iy88rndDcMjM",
        "outputId": "fb445b0e-aa06-4da5-8b6f-b80762e1f0a0"
      },
      "execution_count": null,
      "outputs": [
        {
          "output_type": "stream",
          "name": "stdout",
          "text": [
            "Drive already mounted at /content/drive; to attempt to forcibly remount, call drive.mount(\"/content/drive\", force_remount=True).\n"
          ]
        }
      ]
    },
    {
      "cell_type": "code",
      "source": [
        "data = pd.read_csv('/content/drive/MyDrive/train.txt', sep='\\t')  # Ensure to use the correct delimiter if it's not comma"
      ],
      "metadata": {
        "id": "hVnITtQ8cUEl"
      },
      "execution_count": null,
      "outputs": []
    },
    {
      "cell_type": "code",
      "source": [
        "data['label'].value_counts()"
      ],
      "metadata": {
        "colab": {
          "base_uri": "https://localhost:8080/"
        },
        "id": "PIGIfkzRcZqc",
        "outputId": "2b6e9f2a-9538-4766-9364-1be7a65dc82e"
      },
      "execution_count": null,
      "outputs": [
        {
          "output_type": "execute_result",
          "data": {
            "text/plain": [
              "label\n",
              "others    14948\n",
              "angry      5506\n",
              "sad        5463\n",
              "happy      4243\n",
              "Name: count, dtype: int64"
            ]
          },
          "metadata": {},
          "execution_count": 5
        }
      ]
    },
    {
      "cell_type": "code",
      "source": [
        "def extract_emojis(text):\n",
        "    emoji_pattern = re.compile(\"[\\U0001F600-\\U0001F64F\"  # emoticons\n",
        "                               \"\\U0001F300-\\U0001F5FF\"  # symbols & pictographs\n",
        "                               \"\\U0001F680-\\U0001F6FF\"  # transport & map symbols\n",
        "                               \"\\U0001F1E0-\\U0001F1FF\"  # flags (iOS)\n",
        "                               \"\\U00002702-\\U000027B0\"  # other symbols\n",
        "                               \"\\U000024C2-\\U0001F251\"  # enclosed characters\n",
        "                               \"]+\", flags=re.UNICODE)\n",
        "    return emoji_pattern.findall(text)"
      ],
      "metadata": {
        "id": "0gN_63BUe3XD"
      },
      "execution_count": null,
      "outputs": []
    },
    {
      "cell_type": "code",
      "source": [
        "data['turn1'] = data['turn1'].astype(str)\n",
        "data['turn2'] = data['turn2'].astype(str)\n",
        "data['turn3'] = data['turn3'].astype(str)\n",
        "\n",
        "# Apply the emoji extraction function to each turn\n",
        "data['turn1_emojis'] = data['turn1'].apply(extract_emojis)\n",
        "data['turn2_emojis'] = data['turn2'].apply(extract_emojis)\n",
        "data['turn3_emojis'] = data['turn3'].apply(extract_emojis)"
      ],
      "metadata": {
        "id": "qpg1Tq33e9w6"
      },
      "execution_count": null,
      "outputs": []
    },
    {
      "cell_type": "code",
      "source": [
        "from collections import Counter\n",
        "all_emojis = data['turn1_emojis'].sum() + data['turn2_emojis'].sum() + data['turn3_emojis'].sum()\n",
        "\n",
        "# Count the frequency of each emoji\n",
        "emoji_counts = Counter(all_emojis)"
      ],
      "metadata": {
        "id": "FGwp7hlWfAV6"
      },
      "execution_count": null,
      "outputs": []
    },
    {
      "cell_type": "code",
      "source": [
        "def preprocess_text(text):\n",
        "    # Remove URLs\n",
        "    text = re.sub(r'http\\S+', '', text)\n",
        "    # Remove special characters, numbers, and punctuations (except for hashtags and @mentions)\n",
        "    text = re.sub(\"[^a-zA-Z#@]\", \" \", text)\n",
        "    # Convert to lowercase\n",
        "    text = text.lower()\n",
        "    # Tokenize text\n",
        "    words = word_tokenize(text)\n",
        "\n",
        "    # Remove stopwords\n",
        "    stop_words = set(stopwords.words('english'))\n",
        "    words = [word for word in words if word not in stop_words]\n",
        "    exclude =string.punctuation\n",
        "    words = [word for word in words if word not in exclude]\n",
        "\n",
        "    # Lemmatize words based on POS tags\n",
        "    lemmatizer = WordNetLemmatizer()\n",
        "    tagged_words = pos_tag(words)\n",
        "    lemmatized_words = []\n",
        "    for word, tag in tagged_words:\n",
        "        if tag.startswith('NN'):  # Noun\n",
        "            pos = 'n'\n",
        "        elif tag.startswith('VB'):  # Verb\n",
        "            pos = 'v'\n",
        "        elif tag.startswith('JJ'):  # Adjective\n",
        "            pos = 'a'\n",
        "        else:\n",
        "            pos = 'n'  # Default to noun\n",
        "        lemmatized_words.append(lemmatizer.lemmatize(word, pos))\n",
        "    text = ' '.join(lemmatized_words)\n",
        "    return text"
      ],
      "metadata": {
        "id": "DFqorzPFfC7Z"
      },
      "execution_count": null,
      "outputs": []
    },
    {
      "cell_type": "code",
      "source": [
        "data['turn1_clean'] = data['turn1'].apply(preprocess_text)\n",
        "data['turn2_clean'] = data['turn2'].apply(preprocess_text)\n",
        "data['turn3_clean'] = data['turn3'].apply(preprocess_text)"
      ],
      "metadata": {
        "id": "3QSqEA0ufFgZ"
      },
      "execution_count": null,
      "outputs": []
    },
    {
      "cell_type": "code",
      "source": [
        "data['clean_text'] = data['turn1_clean'] + ' ' + data['turn2_clean'] + ' ' + data['turn3_clean']"
      ],
      "metadata": {
        "id": "V4fgm3apfvuK"
      },
      "execution_count": null,
      "outputs": []
    },
    {
      "cell_type": "code",
      "source": [
        "!pip install demoji"
      ],
      "metadata": {
        "colab": {
          "base_uri": "https://localhost:8080/"
        },
        "id": "_n4E3a66fHbp",
        "outputId": "fcb6de84-975b-4034-b669-a1e1a83a999c"
      },
      "execution_count": null,
      "outputs": [
        {
          "output_type": "stream",
          "name": "stdout",
          "text": [
            "Requirement already satisfied: demoji in /usr/local/lib/python3.10/dist-packages (1.1.0)\n"
          ]
        }
      ]
    },
    {
      "cell_type": "code",
      "source": [
        "import demoji\n",
        "\n",
        "demoji.download_codes()\n"
      ],
      "metadata": {
        "colab": {
          "base_uri": "https://localhost:8080/"
        },
        "id": "NkpseB9nfNOx",
        "outputId": "70f9e046-de17-4b99-b34d-69feb63fb95e"
      },
      "execution_count": null,
      "outputs": [
        {
          "output_type": "stream",
          "name": "stderr",
          "text": [
            "<ipython-input-13-610bed6913c2>:3: FutureWarning: The demoji.download_codes attribute is deprecated and will be removed from demoji in a future version. It is an unused attribute as emoji codes are now distributed directly with the demoji package.\n",
            "  demoji.download_codes()\n"
          ]
        }
      ]
    },
    {
      "cell_type": "code",
      "source": [
        "data['turn1_emojis_description'] = data['turn1_emojis'].apply(lambda x: ' '.join(demoji.findall(' '.join(x)).values()) if x else '')"
      ],
      "metadata": {
        "id": "cVcOmRdNfN-G"
      },
      "execution_count": null,
      "outputs": []
    },
    {
      "cell_type": "code",
      "source": [
        "data['turn2_emojis_description'] = data['turn2_emojis'].apply(lambda x: ' '.join(demoji.findall(' '.join(x)).values()) if x else '')"
      ],
      "metadata": {
        "id": "pupyG4azfTYB"
      },
      "execution_count": null,
      "outputs": []
    },
    {
      "cell_type": "code",
      "source": [
        "data['turn3_emojis_description'] = data['turn3_emojis'].apply(lambda x: ' '.join(demoji.findall(' '.join(x)).values()) if x else '')"
      ],
      "metadata": {
        "id": "XDPTce1bfVnZ"
      },
      "execution_count": null,
      "outputs": []
    },
    {
      "cell_type": "code",
      "source": [
        "data['emojis_description'] = data['turn1_emojis_description'] + ' ' + data['turn2_emojis_description'] + ' ' + data['turn3_emojis_description']"
      ],
      "metadata": {
        "id": "gQiQWSBFfqTp"
      },
      "execution_count": null,
      "outputs": []
    },
    {
      "cell_type": "code",
      "source": [
        "data['emojis_description'].apply(preprocess_text)"
      ],
      "metadata": {
        "colab": {
          "base_uri": "https://localhost:8080/"
        },
        "id": "p-dY6S5if6ha",
        "outputId": "b3cd1360-7abf-452b-aeab-d6b0718145a2"
      },
      "execution_count": null,
      "outputs": [
        {
          "output_type": "execute_result",
          "data": {
            "text/plain": [
              "0                       \n",
              "1                       \n",
              "2                       \n",
              "3                       \n",
              "4                       \n",
              "              ...       \n",
              "30155                   \n",
              "30156    loudly cry face\n",
              "30157                   \n",
              "30158                   \n",
              "30159                   \n",
              "Name: emojis_description, Length: 30160, dtype: object"
            ]
          },
          "metadata": {},
          "execution_count": 18
        }
      ]
    },
    {
      "cell_type": "code",
      "source": [
        "data.drop_duplicates(\"clean_text\", inplace=True)"
      ],
      "metadata": {
        "id": "22rg3CnufpOg"
      },
      "execution_count": null,
      "outputs": []
    },
    {
      "cell_type": "code",
      "source": [
        "data['combined_text'] = data['clean_text'] + ' ' + data['emojis_description']"
      ],
      "metadata": {
        "id": "4XFAapLsfmxr"
      },
      "execution_count": null,
      "outputs": []
    },
    {
      "cell_type": "code",
      "source": [
        "# Preprocess the data\n",
        "tokenizer = Tokenizer(num_words=30000, oov_token=\"<OOV>\")\n",
        "tokenizer.fit_on_texts(data['combined_text'])\n",
        "sequences = tokenizer.texts_to_sequences(data['combined_text'])"
      ],
      "metadata": {
        "id": "lUVOtLXDghtc"
      },
      "execution_count": null,
      "outputs": []
    },
    {
      "cell_type": "code",
      "source": [
        "padded_sequences = pad_sequences(sequences, maxlen=50, padding='post', truncating='post')"
      ],
      "metadata": {
        "id": "6thQOIRpgufK"
      },
      "execution_count": null,
      "outputs": []
    },
    {
      "cell_type": "code",
      "source": [
        "# Encode the labels\n",
        "label_encoder = LabelEncoder()\n",
        "labels = label_encoder.fit_transform(data['label'])"
      ],
      "metadata": {
        "id": "QVFLDb4igzgy"
      },
      "execution_count": null,
      "outputs": []
    },
    {
      "cell_type": "code",
      "source": [
        "X_train, X_test, y_train, y_test = train_test_split(padded_sequences, labels, test_size=0.2, random_state=42)"
      ],
      "metadata": {
        "id": "DT0OxLZqg4FS"
      },
      "execution_count": null,
      "outputs": []
    },
    {
      "cell_type": "code",
      "source": [
        "# Convert the labels to categorical\n",
        "y_train = tf.keras.utils.to_categorical(y_train)\n",
        "y_test = tf.keras.utils.to_categorical(y_test)\n"
      ],
      "metadata": {
        "id": "O6acMbAzg6Wj"
      },
      "execution_count": null,
      "outputs": []
    },
    {
      "cell_type": "code",
      "source": [
        "model = tf.keras.Sequential([\n",
        "    tf.keras.layers.Embedding(input_dim=30000, output_dim=128, input_length=50),\n",
        "    tf.keras.layers.SpatialDropout1D(0.2),\n",
        "    tf.keras.layers.Bidirectional(tf.keras.layers.LSTM(128, return_sequences=True)),\n",
        "    tf.keras.layers.Bidirectional(tf.keras.layers.LSTM(64, return_sequences=True)),\n",
        "    tf.keras.layers.Bidirectional(tf.keras.layers.LSTM(32)),\n",
        "    tf.keras.layers.Dense(128, activation='relu'),\n",
        "    tf.keras.layers.Dropout(0.5),\n",
        "    tf.keras.layers.Dense(64, activation='relu'),\n",
        "    tf.keras.layers.Dropout(0.5),\n",
        "    tf.keras.layers.Dense(y_train.shape[1], activation='softmax')\n",
        "])\n",
        "print(model.summary())"
      ],
      "metadata": {
        "colab": {
          "base_uri": "https://localhost:8080/"
        },
        "id": "pOoyn3x0g8rL",
        "outputId": "933771b0-674f-43c3-a9bb-872c29a76ae2"
      },
      "execution_count": null,
      "outputs": [
        {
          "output_type": "stream",
          "name": "stdout",
          "text": [
            "Model: \"sequential\"\n",
            "_________________________________________________________________\n",
            " Layer (type)                Output Shape              Param #   \n",
            "=================================================================\n",
            " embedding (Embedding)       (None, 50, 128)           3840000   \n",
            "                                                                 \n",
            " spatial_dropout1d (Spatial  (None, 50, 128)           0         \n",
            " Dropout1D)                                                      \n",
            "                                                                 \n",
            " bidirectional (Bidirection  (None, 50, 256)           263168    \n",
            " al)                                                             \n",
            "                                                                 \n",
            " bidirectional_1 (Bidirecti  (None, 50, 128)           164352    \n",
            " onal)                                                           \n",
            "                                                                 \n",
            " bidirectional_2 (Bidirecti  (None, 64)                41216     \n",
            " onal)                                                           \n",
            "                                                                 \n",
            " dense (Dense)               (None, 128)               8320      \n",
            "                                                                 \n",
            " dropout (Dropout)           (None, 128)               0         \n",
            "                                                                 \n",
            " dense_1 (Dense)             (None, 64)                8256      \n",
            "                                                                 \n",
            " dropout_1 (Dropout)         (None, 64)                0         \n",
            "                                                                 \n",
            " dense_2 (Dense)             (None, 4)                 260       \n",
            "                                                                 \n",
            "=================================================================\n",
            "Total params: 4325572 (16.50 MB)\n",
            "Trainable params: 4325572 (16.50 MB)\n",
            "Non-trainable params: 0 (0.00 Byte)\n",
            "_________________________________________________________________\n",
            "None\n"
          ]
        }
      ]
    },
    {
      "cell_type": "code",
      "source": [
        "model.compile(loss='categorical_crossentropy', optimizer=tf.keras.optimizers.Adam(learning_rate=0.001), metrics=['accuracy'])\n"
      ],
      "metadata": {
        "id": "8S9Cpj6bhBMJ"
      },
      "execution_count": null,
      "outputs": []
    },
    {
      "cell_type": "code",
      "source": [
        "# Train the model\n",
        "history = model.fit(X_train, y_train, epochs=5, validation_data=(X_test, y_test), batch_size=64)\n"
      ],
      "metadata": {
        "colab": {
          "base_uri": "https://localhost:8080/"
        },
        "id": "ZDoJhNyAhFnC",
        "outputId": "ee9e1b9e-13d8-40ca-900d-17c08b1c3a07"
      },
      "execution_count": null,
      "outputs": [
        {
          "output_type": "stream",
          "name": "stdout",
          "text": [
            "Epoch 1/5\n",
            "372/372 [==============================] - 254s 642ms/step - loss: 0.9158 - accuracy: 0.6524 - val_loss: 0.5816 - val_accuracy: 0.8056\n",
            "Epoch 2/5\n",
            "372/372 [==============================] - 244s 655ms/step - loss: 0.5414 - accuracy: 0.8297 - val_loss: 0.5271 - val_accuracy: 0.8203\n",
            "Epoch 3/5\n",
            "372/372 [==============================] - 236s 634ms/step - loss: 0.4517 - accuracy: 0.8577 - val_loss: 0.5331 - val_accuracy: 0.8171\n",
            "Epoch 4/5\n",
            "372/372 [==============================] - 233s 626ms/step - loss: 0.3916 - accuracy: 0.8763 - val_loss: 0.5455 - val_accuracy: 0.8139\n",
            "Epoch 5/5\n",
            "372/372 [==============================] - 257s 690ms/step - loss: 0.3418 - accuracy: 0.8935 - val_loss: 0.6201 - val_accuracy: 0.8061\n"
          ]
        }
      ]
    },
    {
      "cell_type": "code",
      "source": [
        "\n",
        "# Plot training & validation accuracy values\n",
        "plt.figure(figsize=(12, 4))\n",
        "\n",
        "plt.subplot(1, 2, 1)\n",
        "plt.plot(history.history['accuracy'])\n",
        "plt.plot(history.history['val_accuracy'])\n",
        "plt.title('Model accuracy')\n",
        "plt.ylabel('Accuracy')\n",
        "plt.xlabel('Epoch')\n",
        "plt.legend(['Train', 'Validation'], loc='upper left')\n",
        "\n",
        "\n",
        "\n",
        "plt.show()"
      ],
      "metadata": {
        "colab": {
          "base_uri": "https://localhost:8080/",
          "height": 410
        },
        "id": "Yn8hweMRnlpA",
        "outputId": "abbc600c-7a3d-429b-fe8e-aab0b58d0a80"
      },
      "execution_count": null,
      "outputs": [
        {
          "output_type": "display_data",
          "data": {
            "text/plain": [
              "<Figure size 1200x400 with 1 Axes>"
            ],
            "image/png": "[encoded data removed]"
          },
          "metadata": {}
        }
      ]
    },
    {
      "cell_type": "code",
      "source": [
        "y_pred = model.predict(X_test)\n",
        "\n",
        "# Convert predictions classes to one hot vectors\n",
        "y_pred_classes = np.argmax(y_pred, axis = 1)\n",
        "\n",
        "# Convert validation observations to one hot vectors\n",
        "y_true = np.argmax(y_test, axis = 1)\n",
        "\n",
        "# Confusion Matrix\n",
        "conf_matrix = confusion_matrix(y_true, y_pred_classes)\n",
        "\n",
        "# Plot confusion matrix\n",
        "plt.figure(figsize=(10, 8))\n",
        "sns.heatmap(conf_matrix, annot=True, fmt='d')\n",
        "plt.title('Confusion Matrix')\n",
        "plt.xlabel('Predicted')\n",
        "plt.ylabel('Actual')\n",
        "plt.show()\n",
        "\n",
        "# Classification Report\n",
        "class_report = classification_report(y_true, y_pred_classes)\n",
        "print(\"Classification Report:\\n\")\n",
        "print(class_report)"
      ],
      "metadata": {
        "colab": {
          "base_uri": "https://localhost:8080/",
          "height": 961
        },
        "id": "_GqPAmQdtMe3",
        "outputId": "da0f87fc-db41-4b6a-fc63-b642427d5c6a"
      },
      "execution_count": null,
      "outputs": [
        {
          "output_type": "stream",
          "name": "stdout",
          "text": [
            "186/186 [==============================] - 39s 136ms/step\n"
          ]
        },
        {
          "output_type": "display_data",
          "data": {
            "text/plain": [
              "<Figure size 1000x800 with 2 Axes>"
            ],
            "image/png": "[encoded data removed]"
          },
          "metadata": {}
        },
        {
          "output_type": "stream",
          "name": "stdout",
          "text": [
            "Classification Report:\n",
            "\n",
            "              precision    recall  f1-score   support\n",
            "\n",
            "           0       0.75      0.83      0.79      1046\n",
            "           1       0.71      0.80      0.75       857\n",
            "           2       0.86      0.82      0.84      2957\n",
            "           3       0.81      0.75      0.78      1082\n",
            "\n",
            "    accuracy                           0.81      5942\n",
            "   macro avg       0.78      0.80      0.79      5942\n",
            "weighted avg       0.81      0.81      0.81      5942\n",
            "\n"
          ]
        }
      ]
    }
  ]
}